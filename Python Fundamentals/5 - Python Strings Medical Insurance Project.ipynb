{
 "cells": [
  {
   "cell_type": "markdown",
   "metadata": {},
   "source": [
    "# Python Strings: Medical Insurance Project\n",
    "\n",
    "You are a doctor who needs to clean up medical patient records, which are currently stored in one large string.\n",
    "\n",
    "In this project, you will use your new knowledge of Python strings to obtain and clean up medical data so that it is easier to read and analyze.\n",
    "\n",
    "    1- We want the insurance costs to be represented in US dollars.\n",
    "    Replace all instances of # in medical_data with $. Store the result in a variable called updated_medical_data.\n",
    "    "
   ]
  },
  {
   "cell_type": "code",
   "execution_count": 1,
   "metadata": {},
   "outputs": [],
   "source": [
    "medical_data = \\\n",
    "\"\"\"Marina Allison   ,27   ,   31.1 , \n",
    "#7010.0   ;Markus Valdez   ,   30, \n",
    "22.4,   #4050.0 ;Connie Ballard ,43 \n",
    ",   25.3 , #12060.0 ;Darnell Weber   \n",
    ",   35   , 20.6   , #7500.0;\n",
    "Sylvie Charles   ,22, 22.1 \n",
    ",#3022.0   ;   Vinay Padilla,24,   \n",
    "26.9 ,#4620.0 ;Meredith Santiago, 51   , \n",
    "29.3 ,#16330.0;   Andre Mccarty, \n",
    "19,22.7 , #2900.0 ; \n",
    "Lorena Hodson ,65, 33.1 , #19370.0; \n",
    "Isaac Vu ,34, 24.8,   #7045.0\"\"\""
   ]
  },
  {
   "cell_type": "code",
   "execution_count": 22,
   "metadata": {},
   "outputs": [
    {
     "name": "stdout",
     "output_type": "stream",
     "text": [
      "Marina Allison   ,27   ,   31.1 , \n",
      "#7010.0   \n",
      "Markus Valdez   ,   30, \n",
      "22.4,   #4050.0 \n",
      "Connie Ballard ,43 \n",
      ",   25.3 , #12060.0 \n",
      "Darnell Weber   \n",
      ",   35   , 20.6   , #7500.0\n",
      "\n",
      "Sylvie Charles   ,22, 22.1 \n",
      ",#3022.0   \n",
      "   Vinay Padilla,24,   \n",
      "26.9 ,#4620.0 \n",
      "Meredith Santiago, 51   , \n",
      "29.3 ,#16330.0\n",
      "   Andre Mccarty, \n",
      "19,22.7 , #2900.0 \n",
      " \n",
      "Lorena Hodson ,65, 33.1 , #19370.0\n",
      " \n",
      "Isaac Vu ,34, 24.8,   #7045.0\n"
     ]
    }
   ],
   "source": [
    "for i in medical_data.split(\";\"):\n",
    "    print(i)\n",
    "   "
   ]
  },
  {
   "cell_type": "code",
   "execution_count": 25,
   "metadata": {},
   "outputs": [
    {
     "name": "stdout",
     "output_type": "stream",
     "text": [
      "Marina Allison   ,27   ,   31.1 , \n",
      "$7010.0   ;Markus Valdez   ,   30, \n",
      "22.4,   $4050.0 ;Connie Ballard ,43 \n",
      ",   25.3 , $12060.0 ;Darnell Weber   \n",
      ",   35   , 20.6   , $7500.0;\n",
      "Sylvie Charles   ,22, 22.1 \n",
      ",$3022.0   ;   Vinay Padilla,24,   \n",
      "26.9 ,$4620.0 ;Meredith Santiago, 51   , \n",
      "29.3 ,$16330.0;   Andre Mccarty, \n",
      "19,22.7 , $2900.0 ; \n",
      "Lorena Hodson ,65, 33.1 , $19370.0; \n",
      "Isaac Vu ,34, 24.8,   $7045.0\n"
     ]
    }
   ],
   "source": [
    "updated_medical_data = \"\"\n",
    "for i in medical_data:\n",
    "    updated_medical_data += i.replace(\"#\", \"$\")\n",
    "print(updated_medical_data)\n",
    "    "
   ]
  },
  {
   "cell_type": "markdown",
   "metadata": {},
   "source": [
    "    2- We want to calculate the number of medical records in our data.\n",
    "    Create a variable called num_records and initialize it at 0.\n",
    "    \n",
    "    \n",
    "    Next, write a for loop to iterate through the updated_medical_data string. Inside of the loop, add 1 to \n",
    "    num_records when the current character is equal to $.\n",
    "    \n",
    "    Outside of the loop, print num_records with the following message:"
   ]
  },
  {
   "cell_type": "code",
   "execution_count": 26,
   "metadata": {},
   "outputs": [
    {
     "name": "stdout",
     "output_type": "stream",
     "text": [
      "There are 10 medical records in the data.\n"
     ]
    }
   ],
   "source": [
    "num_records = 0\n",
    "for i in updated_medical_data:\n",
    "    if i == \"$\":\n",
    "        num_records += 1\n",
    "print(f\"There are {num_records} medical records in the data.\")"
   ]
  },
  {
   "cell_type": "markdown",
   "metadata": {},
   "source": [
    "    3 - The medical data in its current form is difficult to analyze. An essential job for a data scientist is to clean up data so that it’s easy to work with.\n",
    "\n",
    "    Let’s start off by splitting the updated_medical_data string into a list of each medical record. Remember that each medical record is separated by a ; in the string.\n",
    "\n",
    "    Store the result in a variable called medical_data_split and print this variable."
   ]
  },
  {
   "cell_type": "code",
   "execution_count": 27,
   "metadata": {},
   "outputs": [
    {
     "name": "stdout",
     "output_type": "stream",
     "text": [
      "['Marina Allison   ,27   ,   31.1 , \\n$7010.0   ', 'Markus Valdez   ,   30, \\n22.4,   $4050.0 ', 'Connie Ballard ,43 \\n,   25.3 , $12060.0 ', 'Darnell Weber   \\n,   35   , 20.6   , $7500.0', '\\nSylvie Charles   ,22, 22.1 \\n,$3022.0   ', '   Vinay Padilla,24,   \\n26.9 ,$4620.0 ', 'Meredith Santiago, 51   , \\n29.3 ,$16330.0', '   Andre Mccarty, \\n19,22.7 , $2900.0 ', ' \\nLorena Hodson ,65, 33.1 , $19370.0', ' \\nIsaac Vu ,34, 24.8,   $7045.0']\n"
     ]
    }
   ],
   "source": [
    "medical_data_split  = updated_medical_data.split(\";\")\n",
    "print(medical_data_split)\n",
    "    \n",
    "     "
   ]
  },
  {
   "cell_type": "markdown",
   "metadata": {},
   "source": [
    "    4- Our data is now stored in a list, but it is still hard to read. Let’s split each medical record into its own list.\n",
    "    First, define an empty list called medical_records.\n",
    "    \n",
    "    Next, iterate through medical_data_split and for each record, split the string after each comma (,) and append the split string to medical_records."
   ]
  },
  {
   "cell_type": "code",
   "execution_count": 36,
   "metadata": {},
   "outputs": [
    {
     "data": {
      "text/plain": [
       "[['Marina Allison   ', '27   ', '   31.1 ', ' \\n$7010.0   '],\n",
       " ['Markus Valdez   ', '   30', ' \\n22.4', '   $4050.0 '],\n",
       " ['Connie Ballard ', '43 \\n', '   25.3 ', ' $12060.0 '],\n",
       " ['Darnell Weber   \\n', '   35   ', ' 20.6   ', ' $7500.0'],\n",
       " ['\\nSylvie Charles   ', '22', ' 22.1 \\n', '$3022.0   '],\n",
       " ['   Vinay Padilla', '24', '   \\n26.9 ', '$4620.0 '],\n",
       " ['Meredith Santiago', ' 51   ', ' \\n29.3 ', '$16330.0'],\n",
       " ['   Andre Mccarty', ' \\n19', '22.7 ', ' $2900.0 '],\n",
       " [' \\nLorena Hodson ', '65', ' 33.1 ', ' $19370.0'],\n",
       " [' \\nIsaac Vu ', '34', ' 24.8', '   $7045.0']]"
      ]
     },
     "execution_count": 36,
     "metadata": {},
     "output_type": "execute_result"
    }
   ],
   "source": [
    "medical_records = []\n",
    "for i in medical_data_split:\n",
    "    medical_records.append(i.split(\",\"))\n",
    "    \n",
    "medical_records"
   ]
  },
  {
   "cell_type": "markdown",
   "metadata": {},
   "source": [
    "    5 - Our data is now slightly more readable. However, it is not properly formatted – it contains unnecessary whitespace.\n",
    "\n",
    "    To fix this, let’s start by creating an empty list called medical_records_clean.\n",
    "    \n",
    "    Next, use a for loop to iterate through medical_records.\n",
    "\n",
    "    Inside of the loop, create an empty list called record_clean. We’ll use this list to store a formatted version of each medical record.\n",
    "    \n",
    "    After the record_clean variable, create a nested for loop that goes through each record:\n",
    "    \n",
    "    Inside of this loop, append item.strip() to record_clean to remove any whitespace from the string."
   ]
  },
  {
   "cell_type": "code",
   "execution_count": 45,
   "metadata": {},
   "outputs": [
    {
     "data": {
      "text/plain": [
       "[['Marina Allison', '27', '31.1', '$7010.0'],\n",
       " ['Markus Valdez', '30', '22.4', '$4050.0'],\n",
       " ['Connie Ballard', '43', '25.3', '$12060.0'],\n",
       " ['Darnell Weber', '35', '20.6', '$7500.0'],\n",
       " ['Sylvie Charles', '22', '22.1', '$3022.0'],\n",
       " ['Vinay Padilla', '24', '26.9', '$4620.0'],\n",
       " ['Meredith Santiago', '51', '29.3', '$16330.0'],\n",
       " ['Andre Mccarty', '19', '22.7', '$2900.0'],\n",
       " ['Lorena Hodson', '65', '33.1', '$19370.0'],\n",
       " ['Isaac Vu', '34', '24.8', '$7045.0']]"
      ]
     },
     "execution_count": 45,
     "metadata": {},
     "output_type": "execute_result"
    }
   ],
   "source": [
    "medical_records_clean = []\n",
    "for i in medical_records:\n",
    "    record_clean = []\n",
    "    for j in i:\n",
    "        record_clean.append(j.strip())\n",
    "    medical_records_clean.append(record_clean)\n",
    "medical_records_clean"
   ]
  },
  {
   "cell_type": "code",
   "execution_count": 46,
   "metadata": {},
   "outputs": [
    {
     "name": "stdout",
     "output_type": "stream",
     "text": [
      "Marina Allison\n",
      "Markus Valdez\n",
      "Connie Ballard\n",
      "Darnell Weber\n",
      "Sylvie Charles\n",
      "Vinay Padilla\n",
      "Meredith Santiago\n",
      "Andre Mccarty\n",
      "Lorena Hodson\n",
      "Isaac Vu\n"
     ]
    }
   ],
   "source": [
    "for i  in medical_records_clean:\n",
    "    print(i[0])"
   ]
  },
  {
   "cell_type": "markdown",
   "metadata": {},
   "source": [
    "    6 - You want all of the names in the medical records to be in uppercase characters.\n",
    "\n",
    "    In the for loop, update records[0] before the print statement so that all of the characters are uppercase."
   ]
  },
  {
   "cell_type": "code",
   "execution_count": 47,
   "metadata": {},
   "outputs": [
    {
     "name": "stdout",
     "output_type": "stream",
     "text": [
      "MARINA ALLISON\n",
      "MARKUS VALDEZ\n",
      "CONNIE BALLARD\n",
      "DARNELL WEBER\n",
      "SYLVIE CHARLES\n",
      "VINAY PADILLA\n",
      "MEREDITH SANTIAGO\n",
      "ANDRE MCCARTY\n",
      "LORENA HODSON\n",
      "ISAAC VU\n"
     ]
    }
   ],
   "source": [
    "for  i in medical_records_clean:\n",
    "    i[0] = i[0].upper()\n",
    "    print(i[0])"
   ]
  },
  {
   "cell_type": "markdown",
   "metadata": {},
   "source": [
    "7 - Let’s store each name, age, BMI, and insurance cost in separate lists.\n",
    "\n",
    "    To start, create four empty lists:\n",
    "\n",
    "    names\n",
    "    ages\n",
    "    bmis\n",
    "    insurance_costs\n",
    "    \n",
    "8 - Next, iterate through medical_records_clean and for each record:\n",
    "\n",
    "    Append the name to names.\n",
    "    Append the age to ages.\n",
    "    Append the BMI to bmis.\n",
    "    Append the insurance cost to insurance_costs."
   ]
  },
  {
   "cell_type": "code",
   "execution_count": 52,
   "metadata": {},
   "outputs": [
    {
     "data": {
      "text/plain": [
       "(['MARINA ALLISON',\n",
       "  'MARKUS VALDEZ',\n",
       "  'CONNIE BALLARD',\n",
       "  'DARNELL WEBER',\n",
       "  'SYLVIE CHARLES',\n",
       "  'VINAY PADILLA',\n",
       "  'MEREDITH SANTIAGO',\n",
       "  'ANDRE MCCARTY',\n",
       "  'LORENA HODSON',\n",
       "  'ISAAC VU'],\n",
       " ['27', '30', '43', '35', '22', '24', '51', '19', '65', '34'])"
      ]
     },
     "execution_count": 52,
     "metadata": {},
     "output_type": "execute_result"
    }
   ],
   "source": [
    "names = []\n",
    "ages = []\n",
    "bmis = []\n",
    "insurance_costs = []\n",
    "\n",
    "for i in medical_records_clean:\n",
    "    names.append(i[0])\n",
    "    ages.append(i[1])\n",
    "    bmis.append(i[2])\n",
    "    insurance_costs.append(i[3])\n",
    "    \n",
    "names, ages"
   ]
  },
  {
   "cell_type": "markdown",
   "metadata": {},
   "source": [
    "9 - Now that all of our data is in separate lists, we can easily perform analysis on that data. Let’s calculate the average BMI in our dataset.\n",
    "\n",
    "    First, create a variable called total_bmi and set it equal to 0.\n",
    "    \n",
    "    Next, use a for loop to iterate through bmis and add each bmi to total_bmi.\n",
    "\n",
    "    Remember to convert bmi to a float.\n",
    "    \n",
    "    After the for loop, create a variable called average_bmi that stores the total_bmi divided by the length of the bmis list.\n",
    "\n",
    "    Print out average_bmi with the following message:"
   ]
  },
  {
   "cell_type": "code",
   "execution_count": 56,
   "metadata": {},
   "outputs": [
    {
     "name": "stdout",
     "output_type": "stream",
     "text": [
      "Average BMI: 25.830000000000002\n"
     ]
    }
   ],
   "source": [
    "total_bmi = 0 \n",
    "for i in bmis:\n",
    "    total_bmi += float(i)\n",
    "average_bmi = total_bmi/ len(bmis)\n",
    "print(f\"Average BMI: {average_bmi}\")"
   ]
  },
  {
   "cell_type": "code",
   "execution_count": null,
   "metadata": {},
   "outputs": [],
   "source": []
  }
 ],
 "metadata": {
  "kernelspec": {
   "display_name": "Python 3",
   "language": "python",
   "name": "python3"
  },
  "language_info": {
   "codemirror_mode": {
    "name": "ipython",
    "version": 3
   },
   "file_extension": ".py",
   "mimetype": "text/x-python",
   "name": "python",
   "nbconvert_exporter": "python",
   "pygments_lexer": "ipython3",
   "version": "3.7.6"
  },
  "toc": {
   "base_numbering": 1,
   "nav_menu": {},
   "number_sections": true,
   "sideBar": true,
   "skip_h1_title": false,
   "title_cell": "Table of Contents",
   "title_sidebar": "Contents",
   "toc_cell": false,
   "toc_position": {},
   "toc_section_display": true,
   "toc_window_display": false
  }
 },
 "nbformat": 4,
 "nbformat_minor": 4
}
