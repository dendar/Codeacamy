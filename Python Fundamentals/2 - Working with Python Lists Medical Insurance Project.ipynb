{
 "cells": [
  {
   "cell_type": "markdown",
   "metadata": {},
   "source": [
    "# Working with Python Lists: Medical Insurance Project\n",
    "\n",
    "You are a doctor sorting through medical insurance cost data for some patients.\n",
    "\n",
    "You will store medical data and see what valuable insights you can gain from that data.\n",
    "\n",
    "1 - The list names stores the names of ten individuals, and insurance_costs stores their medical insurance costs.\n",
    "\n",
    "Let’s add additional data to these lists:\n",
    "\n",
    "`Append a new individual, \"Priscilla\", to names.`\n",
    "\n",
    "`Append her insurance cost, 8320.0, to insurance_costs.`\n",
    "\n",
    "\n"
   ]
  },
  {
   "cell_type": "code",
   "execution_count": 3,
   "metadata": {},
   "outputs": [],
   "source": [
    "names = [\"Mohamed\", \"Sara\", \"Xia\", \"Paul\", \"Valentina\", \"Jide\", \"Aaron\", \"Emily\", \"Nikita\", \"Paul\"]\n",
    "insurance_costs = [13262.0, 4816.0, 6839.0, 5054.0, 14724.0, 5360.0, 7640.0, 6072.0, 2750.0, 12064.0]\n",
    "\n",
    "names.append('Priscilla')\n",
    "insurance_costs.append(8320.0)\n",
    "\n",
    "\n",
    "\n"
   ]
  },
  {
   "cell_type": "markdown",
   "metadata": {},
   "source": [
    "2 - Currently, the names and insurance_costs lists are separate, but we want each insurance cost to be paired with a name.\n",
    "\n",
    "Create a new variable called medical_records that combines insurance_costs and names into a list using the zip() function."
   ]
  },
  {
   "cell_type": "code",
   "execution_count": 21,
   "metadata": {},
   "outputs": [
    {
     "name": "stdout",
     "output_type": "stream",
     "text": [
      "[(13262.0, 'Mohamed'), (4816.0, 'Sara'), (6839.0, 'Xia'), (5054.0, 'Paul'), (14724.0, 'Valentina'), (5360.0, 'Jide'), (7640.0, 'Aaron'), (6072.0, 'Emily'), (2750.0, 'Nikita'), (12064.0, 'Paul'), (8320.0, 'Priscilla')]\n"
     ]
    }
   ],
   "source": [
    "medical_records = list(zip(insurance_costs,names))\n",
    "print(medical_records)"
   ]
  },
  {
   "cell_type": "markdown",
   "metadata": {},
   "source": [
    "3 - We want to see how many medical records we’re dealing with. Create a variable called num_medical_records that stores the length of medical_records."
   ]
  },
  {
   "cell_type": "code",
   "execution_count": 22,
   "metadata": {},
   "outputs": [
    {
     "name": "stdout",
     "output_type": "stream",
     "text": [
      "There are 11 medical records\n"
     ]
    }
   ],
   "source": [
    "num_medical_records = len(medical_records)\n",
    "print(f\"There are {num_medical_records} medical records\")"
   ]
  },
  {
   "cell_type": "markdown",
   "metadata": {},
   "source": [
    "6 - Select the first medical record in medical_records, and save it to a variable called first_medical_record."
   ]
  },
  {
   "cell_type": "code",
   "execution_count": 23,
   "metadata": {},
   "outputs": [
    {
     "name": "stdout",
     "output_type": "stream",
     "text": [
      "Here is the first medical record: (13262.0, 'Mohamed')\n"
     ]
    }
   ],
   "source": [
    "first_medical_record = medical_records[0]\n",
    "print(f\"Here is the first medical record: {first_medical_record}\")"
   ]
  },
  {
   "cell_type": "markdown",
   "metadata": {},
   "source": [
    "7 - Sort medical_records so that the individuals with the lowest insurance costs appear at the start of the list."
   ]
  },
  {
   "cell_type": "code",
   "execution_count": 25,
   "metadata": {},
   "outputs": [
    {
     "name": "stdout",
     "output_type": "stream",
     "text": [
      "here are the medical records sorted by insurance cost:[(2750.0, 'Nikita'), (4816.0, 'Sara'), (5054.0, 'Paul'), (5360.0, 'Jide'), (6072.0, 'Emily'), (6839.0, 'Xia'), (7640.0, 'Aaron'), (8320.0, 'Priscilla'), (12064.0, 'Paul'), (13262.0, 'Mohamed'), (14724.0, 'Valentina')]\n"
     ]
    }
   ],
   "source": [
    "medical_records.sort()\n",
    "print(f\"here are the medical records sorted by insurance cost:{medical_records}\")"
   ]
  },
  {
   "cell_type": "markdown",
   "metadata": {},
   "source": [
    "8 - Let’s look at the three cheapest insurance costs in our medical records.\n",
    "\n",
    "Slice the medical_records list, and store the three cheapest insurance costs in a list called cheapest_three."
   ]
  },
  {
   "cell_type": "code",
   "execution_count": 26,
   "metadata": {},
   "outputs": [
    {
     "data": {
      "text/plain": [
       "[(2750.0, 'Nikita'), (4816.0, 'Sara'), (5054.0, 'Paul')]"
      ]
     },
     "execution_count": 26,
     "metadata": {},
     "output_type": "execute_result"
    }
   ],
   "source": [
    "cheapest_three = medical_records[:3]\n",
    "cheapest_three"
   ]
  },
  {
   "cell_type": "markdown",
   "metadata": {},
   "source": [
    "9 - Let’s look at the three most expensive insurance costs in our medical records.\n",
    "\n",
    "Slice the medical_records list, and store the three most expensive insurance costs in a list called priciest_three."
   ]
  },
  {
   "cell_type": "code",
   "execution_count": 38,
   "metadata": {},
   "outputs": [
    {
     "data": {
      "text/plain": [
       "[(12064.0, 'Paul'), (13262.0, 'Mohamed'), (14724.0, 'Valentina')]"
      ]
     },
     "execution_count": 38,
     "metadata": {},
     "output_type": "execute_result"
    }
   ],
   "source": [
    "priciest_three = medical_records[-3:]\n",
    "priciest_three"
   ]
  },
  {
   "cell_type": "markdown",
   "metadata": {},
   "source": [
    "10 - Some individuals in our medical records have the same name. For example, the name “Paul” shows up twice.\n",
    "\n",
    "Count the number of occurrences of “Paul” in the names list, and store the result in a variable called occurrences_paul."
   ]
  },
  {
   "cell_type": "code",
   "execution_count": 45,
   "metadata": {},
   "outputs": [
    {
     "data": {
      "text/plain": [
       "2"
      ]
     },
     "execution_count": 45,
     "metadata": {},
     "output_type": "execute_result"
    }
   ],
   "source": [
    "occurrences_paul = names.count(\"Paul\")\n",
    "occurrences_paul"
   ]
  }
 ],
 "metadata": {
  "kernelspec": {
   "display_name": "Python 3",
   "language": "python",
   "name": "python3"
  },
  "language_info": {
   "codemirror_mode": {
    "name": "ipython",
    "version": 3
   },
   "file_extension": ".py",
   "mimetype": "text/x-python",
   "name": "python",
   "nbconvert_exporter": "python",
   "pygments_lexer": "ipython3",
   "version": "3.7.6"
  },
  "toc": {
   "base_numbering": 1,
   "nav_menu": {},
   "number_sections": true,
   "sideBar": true,
   "skip_h1_title": false,
   "title_cell": "Table of Contents",
   "title_sidebar": "Contents",
   "toc_cell": false,
   "toc_position": {},
   "toc_section_display": true,
   "toc_window_display": false
  }
 },
 "nbformat": 4,
 "nbformat_minor": 4
}
