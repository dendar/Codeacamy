{
 "cells": [
  {
   "cell_type": "markdown",
   "metadata": {},
   "source": [
    "# Python Control Flow: Medical Insurance Project\n",
    "\n",
    "In this project, you will examine how factors such as age, sex, BMI, number of children, and smoking status contribute to medical insurance costs.\n",
    "\n",
    "You will apply your knowledge of Python control flow to write code that gives people advice on how to lower their medical insurance costs."
   ]
  },
  {
   "cell_type": "markdown",
   "metadata": {},
   "source": [
    "The functionestimate_insurance_cost() estimates the medical insurance cost for an individual, based on five variables:\n",
    "\n",
    "    age: age of the individual in years\n",
    "    sex: 0 for female, 1 if male\n",
    "    bmi: individual’s body mass index\n",
    "    num_of_children: number of children the individual has\n",
    "    smoker: 0 for a non-smoker, 1 for a smoker\n",
    "    \n",
    "These variables are used in the following formula to estimate an individual’s insurance cost:\n",
    "\n",
    "`insurance\\_cost = 250*age - 128*sex + 370*bmi + 425*num\\_of\\_children + 24000*smoker - 12500insurance_cost=250∗age−128∗sex+370∗bmi`"
   ]
  },
  {
   "cell_type": "markdown",
   "metadata": {},
   "source": [
    "In general, insurance costs are higher for smokers as well as people with a higher BMI. We can use data from the variables smoker and bmi to provide advice on how to lower insurance costs.\n",
    "\n",
    "We’ll first create a function that analyzes an individual’s smoking status.\n",
    "\n",
    "if/else statement that does the following:\n",
    "\n",
    "    If smoker_status is equal to 1, print \"To lower your cost, you should consider quitting smoking.\"\n",
    "    Otherwise, print \"Smoking is not an issue for you.\""
   ]
  },
  {
   "cell_type": "markdown",
   "metadata": {},
   "source": [
    "Define a function called analyze_bmi() that takes an input bmi_value.\n",
    "\n",
    "Inside of this function we’ll want to notify an individual whether their BMI can be improved.\n",
    "\n",
    "Write code using if, elif and else statements representing each of the following cases:\n",
    "\n",
    "    bmi_value > 30: “Your BMI is in the obese range. To lower your cost, you should significantly lower your BMI.”\n",
    "    bmi_value >= 25 and bmi_value <= 30: “Your BMI is in the overweight range. To lower your cost, you should lower your BMI.”\n",
    "    bmi_value >= 18.5 and bmi_value < 25: “Your BMI is in a healthy range.”\n",
    "    bmi_value < 18.5: “Your BMI is in the underweight range. Increasing your BMI will not help lower your cost, but it will help improve your health.”\n",
    "    \n",
    "In the estimate_insurance_cost() function, under the line of code that calls the analyze_smoker() function, make a function call to analyze_bmi(), passing in the bmi variable as an argument."
   ]
  },
  {
   "cell_type": "code",
   "execution_count": 3,
   "metadata": {},
   "outputs": [],
   "source": [
    "def analyze_smoker(smoker_status):\n",
    "    if smoker_status == 1:\n",
    "        print(\"To lower your cost, you should consider quitting smoking.\")\n",
    "    else:\n",
    "        print(\"Smoking is not an issue for you.\")"
   ]
  },
  {
   "cell_type": "code",
   "execution_count": 11,
   "metadata": {},
   "outputs": [],
   "source": [
    "def analyze_bmi(bmi_value):\n",
    "\n",
    "    if bmi_value > 30:\n",
    "        print(\"Your BMI is in the obese range. To lower your cost, you should significantly lower your BMI.\")\n",
    "    elif bmi_value >= 25 and bmi_value <= 30:\n",
    "        print(\"Your BMI is in the overweight range. To lower your cost, you should lower your BMI.\")\n",
    "    elif bmi_value >= 18.5 and bmi_value < 25:\n",
    "        print(\"Your BMI is in a healthy range.\")\n",
    "    else:\n",
    "        print(\"Your BMI is in the underweight range. Increasing your BMI will not help lower your cost, but it will help improve your health.\")"
   ]
  },
  {
   "cell_type": "code",
   "execution_count": 13,
   "metadata": {},
   "outputs": [
    {
     "name": "stdout",
     "output_type": "stream",
     "text": [
      "Keanu's Estimated Insurance Cost: 29591.0 dollars.\n",
      "To lower your cost, you should consider quitting smoking.\n",
      "Your BMI is in the overweight range. To lower your cost, you should lower your BMI.\n"
     ]
    }
   ],
   "source": [
    "#Function to estimate insurance cost:\n",
    "def estimate_insurance_cost(name, age, sex, bmi, num_of_children, smoker):\n",
    "    \n",
    "    estimated_cost = 250*age - 128*sex + 370*bmi + 425*num_of_children + 24000*smoker - 12500\n",
    "    print(name + \"'s Estimated Insurance Cost: \" + str(estimated_cost) + \" dollars.\")\n",
    "    analyze_smoker(smoker)\n",
    "    analyze_bmi(bmi)\n",
    "    return estimated_cost\n",
    " \n",
    "# Estimate Keanu's insurance cost\n",
    "keanu_insurance_cost = estimate_insurance_cost(name = 'Keanu', age = 29, sex = 1, bmi = 26.2, num_of_children = 3, smoker = 1)"
   ]
  },
  {
   "cell_type": "code",
   "execution_count": null,
   "metadata": {},
   "outputs": [],
   "source": []
  }
 ],
 "metadata": {
  "kernelspec": {
   "display_name": "Python 3",
   "language": "python",
   "name": "python3"
  },
  "language_info": {
   "codemirror_mode": {
    "name": "ipython",
    "version": 3
   },
   "file_extension": ".py",
   "mimetype": "text/x-python",
   "name": "python",
   "nbconvert_exporter": "python",
   "pygments_lexer": "ipython3",
   "version": "3.7.6"
  },
  "toc": {
   "base_numbering": 1,
   "nav_menu": {},
   "number_sections": true,
   "sideBar": true,
   "skip_h1_title": false,
   "title_cell": "Table of Contents",
   "title_sidebar": "Contents",
   "toc_cell": false,
   "toc_position": {},
   "toc_section_display": true,
   "toc_window_display": false
  }
 },
 "nbformat": 4,
 "nbformat_minor": 4
}
