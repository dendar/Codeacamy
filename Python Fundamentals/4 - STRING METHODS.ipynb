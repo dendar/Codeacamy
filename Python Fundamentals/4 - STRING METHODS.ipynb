{
 "cells": [
  {
   "cell_type": "markdown",
   "metadata": {},
   "source": [
    "# STRING METHODS\n",
    "\n",
    "    .upper(), .title(), and .lower() adjust the casing of your string.\n",
    "\n",
    "    .split() takes a string and creates a list of substrings.\n",
    "\n",
    "    .join() takes a list of strings and creates a string.\n",
    "    .strip() cleans off whitespace, or other noise from the beginning and end of a string.\n",
    "\n",
    "    .replace() replaces all instances of a character/string in a string with another character/string.\n",
    "\n",
    "    .find() searches a string for a character/string and returns the index value that character/string is found at.\n",
    "\n",
    "    .format() allows you to interpolate a string with variables.\n",
    "\n",
    "\n",
    "1 - Preserve the Verse has one final task for you. They have delivered you a string that contains a list of poems, titled highlighted_poems, they want to highlight on the site, but they need your help to parse the string into something that can display the name, title, and publication date of the highlighted poems on the site.\n",
    "\n",
    "2 - The information for each poem is separated by commas, and within this information is the title of the poem, the author, and the date of publication.\n",
    "\n",
    "Start by splitting highlighted_poems at the commas and saving it to highlighted_poems_list.\n",
    "\n",
    "3 - Notice that there is inconsistent whitespace in highlighted_poems_list. Let’s clean that up.\n",
    "\n",
    "Start by creating a new empty list, highlighted_poems_stripped.\n",
    "\n",
    "Then, iterate through highlighted_poems_list using a for loop and for each poem strip away the whitespace and append it to your new list, highlighted_poems_stripped.\n",
    "\n",
    "4 - Next we want to break up all the information for each poem into it’s own list, so we end up with a list of lists.\n",
    "\n",
    "Create a new empty list called highlighted_poems_details.\n",
    "\n",
    "5 - Iterate through highlighted_poems_stripped and split each string around the : characters and append the new lists into highlighted_poems_details.\n",
    "\n",
    "\n",
    "6 - Create three new empty lists, titles, poets, and dates \n",
    "\n",
    "7 - Iterate through highlighted_poems_details and for each list in the list append the appropriate elements into the lists titles, poets, and dates."
   ]
  },
  {
   "cell_type": "code",
   "execution_count": 18,
   "metadata": {},
   "outputs": [
    {
     "name": "stdout",
     "output_type": "stream",
     "text": [
      "The poem ['Afterimages', 'The Shadow', 'Ecstasy', 'Georgia Dusk', 'Parting Before Daybreak', 'The Untold Want', \"Mr. Grumpledump's Song\", 'Angel Sound Mexico City', 'In Love', 'Dream Variations', 'Dreamwood'] was published by ['Audre Lorde', 'William Carlos Williams', 'Gabriela Mistral', 'Jean Toomer', 'An Qi', 'Walt Whitman', 'Shel Silverstein', 'Carmen Boullosa', 'Kamala Suraiyya', 'Langston Hughes', 'Adrienne Rich'] in ['1997', '1915', '1925', '1923', '2014', '1871', '2004', '2013', '1965', '1994', '1987'].\n"
     ]
    }
   ],
   "source": [
    "highlighted_poems = \"Afterimages:Audre Lorde:1997,  The Shadow:William Carlos Williams:1915, Ecstasy:Gabriela Mistral:1925,   Georgia Dusk:Jean Toomer:1923,   Parting Before Daybreak:An Qi:2014, The Untold Want:Walt Whitman:1871, Mr. Grumpledump's Song:Shel Silverstein:2004, Angel Sound Mexico City:Carmen Boullosa:2013, In Love:Kamala Suraiyya:1965, Dream Variations:Langston Hughes:1994, Dreamwood:Adrienne Rich:1987\"\n",
    "#print(highlighted_poems)\n",
    "highlighted_poems_list = highlighted_poems.split(\",\")\n",
    "#print(highlighted_poems_list)\n",
    "\n",
    "highlighted_poems_stripped = []\n",
    "\n",
    "for i in highlighted_poems_list:\n",
    "    white_s = i.strip()\n",
    "    highlighted_poems_stripped.append(white_s)\n",
    "    \n",
    "highlighted_poems_details = []\n",
    "\n",
    "for i in highlighted_poems_stripped:\n",
    "    highlighted_poems_details.append(i.split(\":\"))\n",
    "    \n",
    "highlighted_poems_details\n",
    "\n",
    "titles= []\n",
    "poets = [] \n",
    "dates = []\n",
    " \n",
    "for i in highlighted_poems_details:\n",
    "    titles.append(i[0])\n",
    "    poets.append(i[1])\n",
    "    dates.append(i[2])\n",
    "print(\"The poem {} was published by {} in {}.\".format(titles, poets,dates)) "
   ]
  },
  {
   "cell_type": "code",
   "execution_count": null,
   "metadata": {},
   "outputs": [],
   "source": []
  }
 ],
 "metadata": {
  "kernelspec": {
   "display_name": "Python 3",
   "language": "python",
   "name": "python3"
  },
  "language_info": {
   "codemirror_mode": {
    "name": "ipython",
    "version": 3
   },
   "file_extension": ".py",
   "mimetype": "text/x-python",
   "name": "python",
   "nbconvert_exporter": "python",
   "pygments_lexer": "ipython3",
   "version": "3.7.6"
  },
  "toc": {
   "base_numbering": 1,
   "nav_menu": {},
   "number_sections": true,
   "sideBar": true,
   "skip_h1_title": false,
   "title_cell": "Table of Contents",
   "title_sidebar": "Contents",
   "toc_cell": false,
   "toc_position": {},
   "toc_section_display": true,
   "toc_window_display": false
  }
 },
 "nbformat": 4,
 "nbformat_minor": 4
}
