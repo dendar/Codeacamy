{
 "cells": [
  {
   "cell_type": "markdown",
   "metadata": {},
   "source": [
    "# Python Loops: Medical Insurance Project\n",
    "\n",
    "You are interested in analyzing medical insurance cost data efficiently without writing repetitive code.\n",
    "\n",
    "In this project, you will use your new knowledge of Python loops to iterate through and analyze medical insurance cost data.\n",
    "\n",
    "    We want to calculate the average insurance cost each person paid. We’ll start by adding up all of the insurance costs.\n",
    "\n",
    "1. Create a variable total_cost and initialize it to 0.\n",
    "\n",
    "2. Use a for loop to iterate through actual_insurance_costs and add each insurance cost to the variable total_cost.\n",
    "\n",
    "3. After the for loop, create a variable called average_cost that stores the total_cost divided by the length of the actual_insurance_costs list.\n",
    "\n",
    "4. For each individual in names, we want to determine whether their insurance cost is above or below average.Write a for loop with variable i that goes from 0 to len(names).\n",
    "\n",
    "5. Inside of the for loop, do the following:\n",
    "\n",
    "        `Create a variable name, which stores names[i].`\n",
    "\n",
    "        `Create a variable insurance_cost, which stores actual_insurance_costs[i].`\n",
    "\n",
    "        `Print out the insurance cost for each individual, with the following message:`\n",
    "        \n",
    "6. Inside of the for loop, use if, elif, else statements after the print statement to check whether the insurance cost is above, below, or equal to the average.\n",
    "\n",
    "\n",
    "7. If you look closely at actual_insurance_costs and estimated_insurance_costs, you will notice that each of the actual insurance costs are 10% higher than the estimated insurance costs.\n",
    "\n",
    "    Using a list comprehension, create a new list called updated_estimated_costs, which has each element in estimated_insurance_costs multiplied by 11/10."
   ]
  },
  {
   "cell_type": "code",
   "execution_count": 1,
   "metadata": {},
   "outputs": [],
   "source": [
    "names = [\"Judith\", \"Abel\", \"Tyson\", \"Martha\", \"Beverley\", \"David\", \"Anabel\"]\n",
    "estimated_insurance_costs = [1000.0, 2000.0, 3000.0, 4000.0, 5000.0, 6000.0, 7000.0]\n",
    "actual_insurance_costs = [1100.0, 2200.0, 3300.0, 4400.0, 5500.0, 6600.0, 7700.0]"
   ]
  },
  {
   "cell_type": "code",
   "execution_count": 20,
   "metadata": {},
   "outputs": [
    {
     "name": "stdout",
     "output_type": "stream",
     "text": [
      "Average insurance cost: $4400.0 dollars.\n",
      "\n",
      "\n",
      "The insurance cost for Judith is $1100.0 dollars.\n",
      "The insurance cost for Judith is below average.\n",
      "\n",
      "The insurance cost for Abel is $2200.0 dollars.\n",
      "The insurance cost for Abel is below average.\n",
      "\n",
      "The insurance cost for Tyson is $3300.0 dollars.\n",
      "The insurance cost for Tyson is below average.\n",
      "\n",
      "The insurance cost for Martha is $4400.0 dollars.\n",
      "The insurance cost for Martha is equal to the average.\n",
      "\n",
      "The insurance cost for Beverley is $5500.0 dollars.\n",
      "The insurance cost for Beverley is above average.\n",
      "\n",
      "The insurance cost for David is $6600.0 dollars.\n",
      "The insurance cost for David is above average.\n",
      "\n",
      "The insurance cost for Anabel is $7700.0 dollars.\n",
      "The insurance cost for Anabel is above average.\n",
      "[1100.0, 2200.0, 3300.0, 4400.0, 5500.0, 6600.0, 7700.0]\n"
     ]
    }
   ],
   "source": [
    "total_cost = 0\n",
    "\n",
    "for cost in actual_insurance_costs:\n",
    "    total_cost += cost\n",
    "    \n",
    "average_cost = total_cost/len(actual_insurance_costs)\n",
    "\n",
    "print(\"Average insurance cost: $\" + str(average_cost) + \" dollars.\")\n",
    "print()\n",
    "\n",
    "for i in range(len(names)):\n",
    "    name = names[i]\n",
    "    insurance_cost = actual_insurance_costs[i]\n",
    "    print()\n",
    "    print(f\"The insurance cost for {name} is ${insurance_cost} dollars.\")\n",
    "    \n",
    "    if insurance_cost>average_cost:\n",
    "        print(f\"The insurance cost for {name} is above average.\")\n",
    "    elif insurance_cost<average_cost:\n",
    "        print(f\"The insurance cost for {name} is below average.\")\n",
    "    else:\n",
    "        print(f\"The insurance cost for {name} is equal to the average.\")\n",
    "        \n",
    "updated_estimated_costs = [estimated_costs*11/10 for estimated_costs in estimated_insurance_costs]\n",
    "print(updated_estimated_costs)"
   ]
  },
  {
   "cell_type": "code",
   "execution_count": null,
   "metadata": {},
   "outputs": [],
   "source": []
  },
  {
   "cell_type": "code",
   "execution_count": null,
   "metadata": {},
   "outputs": [],
   "source": []
  }
 ],
 "metadata": {
  "kernelspec": {
   "display_name": "Python 3",
   "language": "python",
   "name": "python3"
  },
  "language_info": {
   "codemirror_mode": {
    "name": "ipython",
    "version": 3
   },
   "file_extension": ".py",
   "mimetype": "text/x-python",
   "name": "python",
   "nbconvert_exporter": "python",
   "pygments_lexer": "ipython3",
   "version": "3.7.6"
  },
  "toc": {
   "base_numbering": 1,
   "nav_menu": {},
   "number_sections": true,
   "sideBar": true,
   "skip_h1_title": false,
   "title_cell": "Table of Contents",
   "title_sidebar": "Contents",
   "toc_cell": false,
   "toc_position": {},
   "toc_section_display": true,
   "toc_window_display": false
  }
 },
 "nbformat": 4,
 "nbformat_minor": 4
}
